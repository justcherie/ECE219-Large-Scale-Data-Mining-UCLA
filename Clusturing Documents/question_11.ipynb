{
 "cells": [
  {
   "cell_type": "markdown",
   "metadata": {
    "colab_type": "text",
    "id": "Idgxf7Z3hloy"
   },
   "source": [
    "# Imports"
   ]
  },
  {
   "cell_type": "code",
   "execution_count": 0,
   "metadata": {
    "colab": {},
    "colab_type": "code",
    "id": "DxvtTjg8uF02"
   },
   "outputs": [],
   "source": [
    "import random \n",
    "random.seed(42)\n",
    "\n",
    "import nltk\n",
    "from nltk import pos_tag\n",
    "from nltk.corpus import stopwords\n",
    "\n",
    "import numpy as np\n",
    "\n",
    "from matplotlib import pyplot as plt\n",
    "\n",
    "from sklearn import metrics, preprocessing\n",
    "import sklearn.cluster as clst\n",
    "from sklearn.cluster import KMeans as KM\n",
    "from sklearn.datasets import fetch_20newsgroups\n",
    "from sklearn.decomposition import TruncatedSVD\n",
    "from sklearn.decomposition import NMF\n",
    "from sklearn.feature_extraction import text\n",
    "from sklearn.feature_extraction.text import CountVectorizer\n",
    "from sklearn.feature_extraction.text import TfidfTransformer\n",
    "\n",
    "import time"
   ]
  },
  {
   "cell_type": "markdown",
   "metadata": {
    "colab_type": "text",
    "id": "3VY6uwtnhc0U"
   },
   "source": [
    "# Data Setup"
   ]
  },
  {
   "cell_type": "code",
   "execution_count": 0,
   "metadata": {
    "colab": {
     "base_uri": "https://localhost:8080/",
     "height": 35
    },
    "colab_type": "code",
    "id": "TZTcesQTuLyR",
    "outputId": "201d5948-1ed5-4129-ba2b-ff544a7ac08e"
   },
   "outputs": [
    {
     "name": "stdout",
     "output_type": "stream",
     "text": [
      "dict_keys(['data', 'filenames', 'target_names', 'target', 'DESCR'])\n"
     ]
    }
   ],
   "source": [
    "# Setup:\n",
    "twenty_train = fetch_20newsgroups(subset='all', categories=None, shuffle=True, random_state=42)\n",
    "print(twenty_train.keys())"
   ]
  },
  {
   "cell_type": "code",
   "execution_count": 0,
   "metadata": {
    "colab": {
     "base_uri": "https://localhost:8080/",
     "height": 35
    },
    "colab_type": "code",
    "id": "bMqUwN5zumQ1",
    "outputId": "7fb3632a-467e-4e16-9faf-67949333091f"
   },
   "outputs": [
    {
     "data": {
      "text/plain": [
       "18846"
      ]
     },
     "execution_count": 4,
     "metadata": {
      "tags": []
     },
     "output_type": "execute_result"
    }
   ],
   "source": [
    "len(twenty_train.data)"
   ]
  },
  {
   "cell_type": "markdown",
   "metadata": {
    "colab_type": "text",
    "id": "Ob3YLAM_tx8Q"
   },
   "source": [
    "# Question 11"
   ]
  },
  {
   "cell_type": "code",
   "execution_count": 0,
   "metadata": {
    "colab": {
     "base_uri": "https://localhost:8080/",
     "height": 35
    },
    "colab_type": "code",
    "id": "JN4n3G0Ru5ku",
    "outputId": "89ee066b-cbbe-41f9-891b-772128a53aed"
   },
   "outputs": [
    {
     "name": "stdout",
     "output_type": "stream",
     "text": [
      "(18846, 52295)\n"
     ]
    }
   ],
   "source": [
    "vectorizer = CountVectorizer(min_df=3, stop_words='english')\n",
    "tfidf_transformer = TfidfTransformer()\n",
    "X_train_20 = vectorizer.fit_transform(twenty_train.data)\n",
    "X_train_tfidf_20 = tfidf_transformer.fit_transform(X_train_20)\n",
    "print(X_train_tfidf_20.shape)"
   ]
  },
  {
   "cell_type": "code",
   "execution_count": 0,
   "metadata": {
    "colab": {
     "base_uri": "https://localhost:8080/",
     "height": 35
    },
    "colab_type": "code",
    "id": "77-3g_QZt3cR",
    "outputId": "5638a7b7-db73-431a-f28b-a2aa5b3f2024"
   },
   "outputs": [
    {
     "name": "stdout",
     "output_type": "stream",
     "text": [
      "Clustering sparse data with k_means\n"
     ]
    }
   ],
   "source": [
    "km = KM(n_clusters =20, init='k-means++')\n",
    "print(\"Clustering sparse data with k_means\")"
   ]
  },
  {
   "cell_type": "code",
   "execution_count": 0,
   "metadata": {
    "colab": {
     "base_uri": "https://localhost:8080/",
     "height": 35
    },
    "colab_type": "code",
    "id": "VR_n1KtHvx9C",
    "outputId": "15c57b83-6304-43a8-bfc3-be9b2ae203c4"
   },
   "outputs": [
    {
     "name": "stdout",
     "output_type": "stream",
     "text": [
      "Training Finished!!\n"
     ]
    }
   ],
   "source": [
    "km.fit(X_train_tfidf_20)\n",
    "print(\"Training Finished!!\")"
   ]
  },
  {
   "cell_type": "markdown",
   "metadata": {
    "colab_type": "text",
    "id": "FJrsdf5gVCcT"
   },
   "source": [
    "**Setting-1**, better setting results shown below."
   ]
  },
  {
   "cell_type": "code",
   "execution_count": 0,
   "metadata": {
    "colab": {},
    "colab_type": "code",
    "id": "zq_fGvVR9YAd"
   },
   "outputs": [],
   "source": [
    "import pickle\n",
    "\n",
    "fid_kmeans20 = open('kmeans20_model.sav','wb')\n",
    "pickle.dump(km,fid_kmeans20)\n",
    "fid_kmeans20.close()"
   ]
  },
  {
   "cell_type": "code",
   "execution_count": 0,
   "metadata": {
    "colab": {
     "base_uri": "https://localhost:8080/",
     "height": 179
    },
    "colab_type": "code",
    "id": "mfIJWSvx2jwn",
    "outputId": "5401f712-aa9f-4ca4-eabc-c6192967bfd1"
   },
   "outputs": [
    {
     "name": "stdout",
     "output_type": "stream",
     "text": [
      "Homogeneity: 0.289\n",
      "Completeness: 0.357\n",
      "V-measure: 0.319\n",
      "Adjusted Rand-Index: 0.102\n",
      "Adjusted mutual info score: 0.287\n",
      "Average of scores: 0.271\n"
     ]
    },
    {
     "name": "stderr",
     "output_type": "stream",
     "text": [
      "/usr/local/lib/python3.6/dist-packages/sklearn/metrics/cluster/supervised.py:732: FutureWarning: The behavior of AMI will change in version 0.22. To match the behavior of 'v_measure_score', AMI will use average_method='arithmetic' by default.\n",
      "  FutureWarning)\n"
     ]
    }
   ],
   "source": [
    "# Find the other metrics aswell.\n",
    "Homogeneity     = metrics.homogeneity_score(twenty_train.target, km.labels_)\n",
    "Completeness    = metrics.completeness_score(twenty_train.target, km.labels_)\n",
    "V_measure       = metrics.v_measure_score(twenty_train.target, km.labels_)\n",
    "Adjstd_Rand     = metrics.adjusted_rand_score(twenty_train.target, km.labels_)\n",
    "Adjstd_mtl_info = metrics.adjusted_mutual_info_score(twenty_train.target, km.labels_)\n",
    "Average         = (Homogeneity+Completeness+V_measure+Adjstd_Rand+Adjstd_mtl_info)/5\n",
    "print(\"Homogeneity: %0.3f\" % Homogeneity)\n",
    "print(\"Completeness: %0.3f\" % Completeness)\n",
    "print(\"V-measure: %0.3f\" % V_measure)\n",
    "print(\"Adjusted Rand-Index: %.3f\" % Adjstd_Rand)\n",
    "print(\"Adjusted mutual info score: %0.3f\" % Adjstd_mtl_info)\n",
    "print(\"Average of scores: %0.3f\" % Average)"
   ]
  },
  {
   "cell_type": "code",
   "execution_count": 0,
   "metadata": {
    "colab": {
     "base_uri": "https://localhost:8080/",
     "height": 365
    },
    "colab_type": "code",
    "id": "1gg6XmRE2I_X",
    "outputId": "778a2df8-46bd-4921-add2-624859ddce99"
   },
   "outputs": [
    {
     "data": {
      "text/plain": [
       "<matplotlib.image.AxesImage at 0x7fa599921278>"
      ]
     },
     "execution_count": 14,
     "metadata": {
      "tags": []
     },
     "output_type": "execute_result"
    },
    {
     "data": {
      "image/png": "[encoded data removed]",
      "text/plain": [
       "<Figure size 576x396 with 1 Axes>"
      ]
     },
     "metadata": {
      "tags": []
     },
     "output_type": "display_data"
    }
   ],
   "source": [
    "plt.imshow(metrics.cluster.contingency_matrix(twenty_train.target, km.labels_))"
   ]
  },
  {
   "cell_type": "code",
   "execution_count": 0,
   "metadata": {
    "colab": {},
    "colab_type": "code",
    "id": "zj6ujQWUP2QJ"
   },
   "outputs": [],
   "source": [
    "np.save('contingency_matrix1', np.array(metrics.cluster.contingency_matrix(twenty_train.target, km.labels_)))"
   ]
  },
  {
   "cell_type": "markdown",
   "metadata": {
    "colab_type": "text",
    "id": "p4l45bO8VKjJ"
   },
   "source": [
    "**Setting-2** which gave the best result and this is mentioned in the report."
   ]
  },
  {
   "cell_type": "code",
   "execution_count": 0,
   "metadata": {
    "colab": {
     "base_uri": "https://localhost:8080/",
     "height": 196
    },
    "colab_type": "code",
    "id": "UfpS1koh3M08",
    "outputId": "a190844d-b7ba-4795-8ae7-fda60eaadd45"
   },
   "outputs": [
    {
     "name": "stdout",
     "output_type": "stream",
     "text": [
      "Training Finished!!\n",
      "Homogeneity: 0.359\n",
      "Completeness: 0.451\n",
      "V-measure: 0.400\n",
      "Adjusted Rand-Index: 0.137\n",
      "Adjusted mutual info score: 0.357\n",
      "Average of scores: 0.341\n"
     ]
    },
    {
     "name": "stderr",
     "output_type": "stream",
     "text": [
      "/usr/local/lib/python3.6/dist-packages/sklearn/metrics/cluster/supervised.py:732: FutureWarning: The behavior of AMI will change in version 0.22. To match the behavior of 'v_measure_score', AMI will use average_method='arithmetic' by default.\n",
      "  FutureWarning)\n"
     ]
    }
   ],
   "source": [
    "km1 = KM(n_clusters =20, random_state=0, max_iter = 1000, n_init = 30, n_jobs=-1)\n",
    "km1.fit(X_train_tfidf_20)\n",
    "print(\"Training Finished!!\")\n",
    "\n",
    "# Find the other metrics aswell.\n",
    "Homogeneity     = metrics.homogeneity_score(twenty_train.target, km1.labels_)\n",
    "Completeness    = metrics.completeness_score(twenty_train.target, km1.labels_)\n",
    "V_measure       = metrics.v_measure_score(twenty_train.target, km1.labels_)\n",
    "Adjstd_Rand     = metrics.adjusted_rand_score(twenty_train.target, km1.labels_)\n",
    "Adjstd_mtl_info = metrics.adjusted_mutual_info_score(twenty_train.target, km1.labels_)\n",
    "Average         = (Homogeneity+Completeness+V_measure+Adjstd_Rand+Adjstd_mtl_info)/5\n",
    "print(\"Homogeneity: %0.3f\" % Homogeneity)\n",
    "print(\"Completeness: %0.3f\" % Completeness)\n",
    "print(\"V-measure: %0.3f\" % V_measure)\n",
    "print(\"Adjusted Rand-Index: %.3f\" % Adjstd_Rand)\n",
    "print(\"Adjusted mutual info score: %0.3f\" % Adjstd_mtl_info)\n",
    "print(\"Average of scores: %0.3f\" % Average)"
   ]
  },
  {
   "cell_type": "code",
   "execution_count": 0,
   "metadata": {
    "colab": {},
    "colab_type": "code",
    "id": "TCwiRh1dRduL"
   },
   "outputs": [],
   "source": [
    "import pickle\n",
    "\n",
    "fid_kmeans20_new = open('kmeans20_comp_model.sav','wb')\n",
    "pickle.dump(km1,fid_kmeans20_new)\n",
    "fid_kmeans20_new.close()"
   ]
  },
  {
   "cell_type": "code",
   "execution_count": 0,
   "metadata": {
    "colab": {
     "base_uri": "https://localhost:8080/",
     "height": 365
    },
    "colab_type": "code",
    "id": "6xAfa4ew3e51",
    "outputId": "36144e23-d1ef-4e47-9d16-49b8a46a0482"
   },
   "outputs": [
    {
     "data": {
      "text/plain": [
       "<matplotlib.image.AxesImage at 0x7fa599805668>"
      ]
     },
     "execution_count": 16,
     "metadata": {
      "tags": []
     },
     "output_type": "execute_result"
    },
    {
     "data": {
      "image/png": "[encoded data removed]",
      "text/plain": [
       "<Figure size 576x396 with 1 Axes>"
      ]
     },
     "metadata": {
      "tags": []
     },
     "output_type": "display_data"
    }
   ],
   "source": [
    "plt.imshow(metrics.cluster.contingency_matrix(twenty_train.target, km1.labels_))"
   ]
  },
  {
   "cell_type": "code",
   "execution_count": 0,
   "metadata": {
    "colab": {},
    "colab_type": "code",
    "id": "_2vgiGxaPYto"
   },
   "outputs": [],
   "source": [
    "np.save('contingency_matrix2', np.array(metrics.cluster.contingency_matrix(twenty_train.target, km1.labels_)))"
   ]
  }
 ],
 "metadata": {
  "colab": {
   "collapsed_sections": [],
   "name": "question_11",
   "provenance": [],
   "version": "0.3.2"
  },
  "kernelspec": {
   "display_name": "Python 3",
   "language": "python",
   "name": "python3"
  },
  "language_info": {
   "codemirror_mode": {
    "name": "ipython",
    "version": 3
   },
   "file_extension": ".py",
   "mimetype": "text/x-python",
   "name": "python",
   "nbconvert_exporter": "python",
   "pygments_lexer": "ipython3",
   "version": "3.6.5"
  }
 },
 "nbformat": 4,
 "nbformat_minor": 1
}
